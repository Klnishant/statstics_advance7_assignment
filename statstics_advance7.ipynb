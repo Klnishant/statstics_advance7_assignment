{
 "cells": [
  {
   "cell_type": "markdown",
   "id": "0acb57a9-9f1d-40f7-8445-a5b444ff8705",
   "metadata": {},
   "source": [
    "Q1. Write a Python function that takes in two arrays of data and calculates the F-value for a variance ratio\n",
    "test. The function should return the F-value and the corresponding p-value for the test."
   ]
  },
  {
   "cell_type": "code",
   "execution_count": 1,
   "id": "d15df7e1-2110-4d83-b213-4bf1e8df920f",
   "metadata": {},
   "outputs": [],
   "source": [
    "import numpy as np\n",
    "from scipy import stats\n",
    "\n",
    "def variance_ratio_test(data1, data2):\n",
    "    # Calculate the variances\n",
    "    var1 = np.var(data1, ddof=1)\n",
    "    var2 = np.var(data2, ddof=1)\n",
    "    \n",
    "    # Calculate the F-value\n",
    "    f_value = var1 / var2\n",
    "    \n",
    "    # Calculate the degrees of freedom\n",
    "    df1 = len(data1) - 1\n",
    "    df2 = len(data2) - 1\n",
    "    \n",
    "    # Calculate the p-value\n",
    "    p_value = 1 - stats.f.cdf(f_value, df1, df2)\n",
    "    \n",
    "    return f_value, p_value\n"
   ]
  },
  {
   "cell_type": "code",
   "execution_count": 2,
   "id": "a20ddc8e-9d14-410e-a02f-3b9042f48a46",
   "metadata": {},
   "outputs": [
    {
     "name": "stdout",
     "output_type": "stream",
     "text": [
      "F-value: 0.25\n",
      "p-value: 0.896\n"
     ]
    }
   ],
   "source": [
    "data1 = [1, 2, 3, 4, 5]\n",
    "data2 = [2, 4, 6, 8, 10]\n",
    "\n",
    "f_value, p_value = variance_ratio_test(data1, data2)\n",
    "\n",
    "print(\"F-value:\", f_value)\n",
    "print(\"p-value:\", p_value)\n"
   ]
  },
  {
   "cell_type": "markdown",
   "id": "a7f09819-4cf0-4093-9709-55eea11ce86c",
   "metadata": {},
   "source": [
    "Q2. Given a significance level of 0.05 and the degrees of freedom for the numerator and denominator of an\n",
    "F-distribution, write a Python function that returns the critical F-value for a two-tailed test."
   ]
  },
  {
   "cell_type": "code",
   "execution_count": 3,
   "id": "8677ede7-c38b-48c4-8770-69662f8a1c7f",
   "metadata": {},
   "outputs": [],
   "source": [
    "from scipy import stats\n",
    "\n",
    "def critical_f_value(alpha, dfn, dfd):\n",
    "    # Calculate the critical F-value\n",
    "    f_critical = stats.f.ppf(1 - alpha / 2, dfn, dfd)\n",
    "    \n",
    "    return f_critical\n"
   ]
  },
  {
   "cell_type": "code",
   "execution_count": 4,
   "id": "92f12339-2953-4256-bb1a-69157ff740ab",
   "metadata": {},
   "outputs": [
    {
     "name": "stdout",
     "output_type": "stream",
     "text": [
      "Critical F-value: 3.8586986662732143\n"
     ]
    }
   ],
   "source": [
    "alpha = 0.05\n",
    "dfn = 3\n",
    "dfd = 20\n",
    "\n",
    "f_critical = critical_f_value(alpha, dfn, dfd)\n",
    "\n",
    "print(\"Critical F-value:\", f_critical)\n"
   ]
  },
  {
   "cell_type": "markdown",
   "id": "be6f7c73-cfc0-4bc8-8dba-49fc4ae188c8",
   "metadata": {},
   "source": [
    "Q3. Write a Python program that generates random samples from two normal distributions with known\n",
    "\n",
    "variances and uses an F-test to determine if the variances are equal. The program should output the F-\n",
    "value, degrees of freedom, and p-value for the test."
   ]
  },
  {
   "cell_type": "code",
   "execution_count": 5,
   "id": "27f765c0-531d-451c-9a2a-ba6c95c77d99",
   "metadata": {},
   "outputs": [
    {
     "name": "stdout",
     "output_type": "stream",
     "text": [
      "F-value: 0.4217313417163961\n",
      "Degrees of freedom (numerator, denominator): 99 99\n",
      "p-value: 2.4350151438820782e-05\n"
     ]
    }
   ],
   "source": [
    "import numpy as np\n",
    "from scipy import stats\n",
    "\n",
    "def f_test_for_variances(sample1, sample2):\n",
    "    # Calculate the variances\n",
    "    var1 = np.var(sample1, ddof=1)\n",
    "    var2 = np.var(sample2, ddof=1)\n",
    "    \n",
    "    # Calculate the F-value\n",
    "    f_value = var1 / var2\n",
    "    \n",
    "    # Calculate the degrees of freedom\n",
    "    dfn = len(sample1) - 1\n",
    "    dfd = len(sample2) - 1\n",
    "    \n",
    "    # Calculate the p-value\n",
    "    p_value = 2 * min(stats.f.cdf(f_value, dfn, dfd), 1 - stats.f.cdf(f_value, dfn, dfd))\n",
    "    \n",
    "    return f_value, dfn, dfd, p_value\n",
    "\n",
    "\n",
    "# Generate random samples\n",
    "np.random.seed(0)  # For reproducibility\n",
    "sample1 = np.random.normal(loc=0, scale=1, size=100)\n",
    "sample2 = np.random.normal(loc=0, scale=1.5, size=100)\n",
    "\n",
    "# Perform F-test for variances\n",
    "f_value, dfn, dfd, p_value = f_test_for_variances(sample1, sample2)\n",
    "\n",
    "# Print the results\n",
    "print(\"F-value:\", f_value)\n",
    "print(\"Degrees of freedom (numerator, denominator):\", dfn, dfd)\n",
    "print(\"p-value:\", p_value)\n"
   ]
  },
  {
   "cell_type": "markdown",
   "id": "6f4ef2b1-5ed3-4b22-8af4-e747e7210f6b",
   "metadata": {},
   "source": [
    "Q4.The variances of two populations are known to be 10 and 15. A sample of 12 observations is taken from\n",
    "each population. Conduct an F-test at the 5% significance level to determine if the variances are\n",
    "significantly different."
   ]
  },
  {
   "cell_type": "code",
   "execution_count": 6,
   "id": "bd5fc8ba-b565-444b-9812-1fd8da7301aa",
   "metadata": {},
   "outputs": [
    {
     "name": "stdout",
     "output_type": "stream",
     "text": [
      "F-value: 0.6666666666666666\n",
      "Degrees of freedom (numerator, denominator): 11 11\n",
      "p-value: 0.7438051006321003\n",
      "The variances are not significantly different.\n"
     ]
    }
   ],
   "source": [
    "from scipy import stats\n",
    "\n",
    "def f_test(variance1, variance2, sample_size):\n",
    "    # Calculate the F-value\n",
    "    f_value = variance1 / variance2\n",
    "\n",
    "    # Calculate the degrees of freedom\n",
    "    dfn = sample_size - 1\n",
    "    dfd = sample_size - 1\n",
    "\n",
    "    # Calculate the p-value\n",
    "    p_value = 1 - stats.f.cdf(f_value, dfn, dfd)\n",
    "\n",
    "    return f_value, dfn, dfd, p_value\n",
    "\n",
    "\n",
    "# Given information\n",
    "variance1 = 10\n",
    "variance2 = 15\n",
    "sample_size = 12\n",
    "\n",
    "# Perform F-test\n",
    "f_value, dfn, dfd, p_value = f_test(variance1, variance2, sample_size)\n",
    "\n",
    "# Set the significance level\n",
    "alpha = 0.05\n",
    "\n",
    "# Print the results\n",
    "print(\"F-value:\", f_value)\n",
    "print(\"Degrees of freedom (numerator, denominator):\", dfn, dfd)\n",
    "print(\"p-value:\", p_value)\n",
    "\n",
    "# Check if the null hypothesis is rejected or not\n",
    "if p_value < alpha:\n",
    "    print(\"The variances are significantly different.\")\n",
    "else:\n",
    "    print(\"The variances are not significantly different.\")\n"
   ]
  },
  {
   "cell_type": "markdown",
   "id": "c636dcd9-868f-48c4-995a-5d743faf0b00",
   "metadata": {},
   "source": [
    "Q5. A manufacturer claims that the variance of the diameter of a certain product is 0.005. A sample of 25\n",
    "products is taken, and the sample variance is found to be 0.006. Conduct an F-test at the 1% significance\n",
    "level to determine if the claim is justified."
   ]
  },
  {
   "cell_type": "code",
   "execution_count": 7,
   "id": "828172d0-39a1-49a8-99c7-f2207fb7815a",
   "metadata": {},
   "outputs": [
    {
     "name": "stdout",
     "output_type": "stream",
     "text": [
      "F-value: 1.2\n",
      "Degrees of freedom (numerator, denominator): 24 24\n",
      "p-value: 0.6587309365634488\n",
      "The claim is justified. The population variance is not significantly different from the claimed variance.\n"
     ]
    }
   ],
   "source": [
    "from scipy import stats\n",
    "\n",
    "def f_test(sample_variance, claimed_variance, sample_size):\n",
    "    # Calculate the F-value\n",
    "    f_value = sample_variance / claimed_variance\n",
    "\n",
    "    # Calculate the degrees of freedom\n",
    "    dfn = sample_size - 1\n",
    "    dfd = sample_size - 1\n",
    "\n",
    "    # Calculate the p-value\n",
    "    p_value = 2 * min(stats.f.cdf(f_value, dfn, dfd), 1 - stats.f.cdf(f_value, dfn, dfd))\n",
    "\n",
    "    return f_value, dfn, dfd, p_value\n",
    "\n",
    "\n",
    "# Given information\n",
    "claimed_variance = 0.005\n",
    "sample_variance = 0.006\n",
    "sample_size = 25\n",
    "\n",
    "# Perform F-test\n",
    "f_value, dfn, dfd, p_value = f_test(sample_variance, claimed_variance, sample_size)\n",
    "\n",
    "# Set the significance level\n",
    "alpha = 0.01\n",
    "\n",
    "# Print the results\n",
    "print(\"F-value:\", f_value)\n",
    "print(\"Degrees of freedom (numerator, denominator):\", dfn, dfd)\n",
    "print(\"p-value:\", p_value)\n",
    "\n",
    "# Check if the null hypothesis is rejected or not\n",
    "if p_value < alpha:\n",
    "    print(\"The claim is not justified. The population variance is significantly different from the claimed variance.\")\n",
    "else:\n",
    "    print(\"The claim is justified. The population variance is not significantly different from the claimed variance.\")\n"
   ]
  },
  {
   "cell_type": "markdown",
   "id": "008e04b5-0dd9-4355-a878-5906b3ec036d",
   "metadata": {},
   "source": [
    "Q6. Write a Python function that takes in the degrees of freedom for the numerator and denominator of an\n",
    "F-distribution and calculates the mean and variance of the distribution. The function should return the\n",
    "mean and variance as a tuple."
   ]
  },
  {
   "cell_type": "code",
   "execution_count": 8,
   "id": "7dbb3d74-7543-49f3-9088-6aebe2769de9",
   "metadata": {},
   "outputs": [
    {
     "name": "stdout",
     "output_type": "stream",
     "text": [
      "Mean: 1.25\n",
      "Variance: 1.9097222222222223\n"
     ]
    }
   ],
   "source": [
    "def f_distribution_mean_variance(dfn, dfd):\n",
    "    # Calculate the mean of the F-distribution\n",
    "    if dfd > 2:\n",
    "        mean = dfd / (dfd - 2)\n",
    "    else:\n",
    "        mean = float('inf')\n",
    "\n",
    "    # Calculate the variance of the F-distribution\n",
    "    if dfd > 4:\n",
    "        variance = (2 * (dfd ** 2) * (dfn + dfd - 2)) / ((dfn * (dfd - 2) ** 2 * (dfd - 4)))\n",
    "    else:\n",
    "        variance = float('inf')\n",
    "\n",
    "    return mean, variance\n",
    "\n",
    "\n",
    "# Example usage\n",
    "degrees_of_freedom_numerator = 3\n",
    "degrees_of_freedom_denominator = 10\n",
    "\n",
    "mean, variance = f_distribution_mean_variance(degrees_of_freedom_numerator, degrees_of_freedom_denominator)\n",
    "\n",
    "print(\"Mean:\", mean)\n",
    "print(\"Variance:\", variance)\n"
   ]
  },
  {
   "cell_type": "markdown",
   "id": "0aa6c24a-2fbb-4097-860d-2d77e4834c47",
   "metadata": {},
   "source": [
    "Q7. A random sample of 10 measurements is taken from a normal population with unknown variance. The\n",
    "sample variance is found to be 25. Another random sample of 15 measurements is taken from another\n",
    "normal population with unknown variance, and the sample variance is found to be 20. Conduct an F-test\n",
    "at the 10% significance level to determine if the variances are significantly different."
   ]
  },
  {
   "cell_type": "code",
   "execution_count": 11,
   "id": "5b9a693f-a3ea-4805-aef9-6bf7ccf75e25",
   "metadata": {},
   "outputs": [
    {
     "name": "stdout",
     "output_type": "stream",
     "text": [
      "F-value: 1.25\n",
      "Degrees of freedom (numerator, denominator): 9 14\n",
      "p-value: 0.6832194382585954\n",
      "The variances are not significantly different.\n"
     ]
    }
   ],
   "source": [
    "from scipy import stats\n",
    "\n",
    "def f_test(sample_variance1, sample_variance2, sample_size1, sample_size2):\n",
    "    # Calculate the F-value\n",
    "    f_value = sample_variance1 / sample_variance2\n",
    "\n",
    "    # Calculate the degrees of freedom\n",
    "    dfn = sample_size1 - 1\n",
    "    dfd = sample_size2 - 1\n",
    "\n",
    "    # Calculate the p-value\n",
    "    p_value = 2 * min(stats.f.cdf(f_value, dfn, dfd), 1 - stats.f.cdf(f_value, dfn, dfd))\n",
    "\n",
    "    return f_value, dfn, dfd, p_value\n",
    "\n",
    "\n",
    "# Given information\n",
    "sample_variance1 = 25\n",
    "sample_variance2 = 20\n",
    "sample_size1 = 10\n",
    "sample_size2 = 15\n",
    "\n",
    "# Perform F-test\n",
    "f_value, dfn, dfd, p_value = f_test(sample_variance1, sample_variance2, sample_size1, sample_size2)\n",
    "\n",
    "# Set the significance level\n",
    "alpha = 0.10\n",
    "\n",
    "# Print the results\n",
    "print(\"F-value:\", f_value)\n",
    "print(\"Degrees of freedom (numerator, denominator):\", dfn, dfd)\n",
    "print(\"p-value:\", p_value)\n",
    "\n",
    "# Check if the null hypothesis is rejected or not\n",
    "if p_value < alpha:\n",
    "    print(\"The variances are significantly different.\")\n",
    "else:\n",
    "    print(\"The variances are not significantly different.\")\n"
   ]
  },
  {
   "cell_type": "markdown",
   "id": "450e0c62-cb51-432b-b67d-ea191b610702",
   "metadata": {},
   "source": [
    "Q8. The following data represent the waiting times in minutes at two different restaurants on a Saturday\n",
    "night: Restaurant A: 24, 25, 28, 23, 22, 20, 27; Restaurant B: 31, 33, 35, 30, 32, 36. Conduct an F-test at the 5%\n",
    "significance level to determine if the variances are significantly different."
   ]
  },
  {
   "cell_type": "code",
   "execution_count": 12,
   "id": "b446618d-b421-4df5-a534-e2f02db6f7c5",
   "metadata": {},
   "outputs": [
    {
     "name": "stdout",
     "output_type": "stream",
     "text": [
      "F-value: 1.4551907719609583\n",
      "Degrees of freedom (numerator, denominator): 6 5\n",
      "Critical F-value: 6.977701858535566\n",
      "The variances are not significantly different.\n"
     ]
    }
   ],
   "source": [
    "from scipy import stats\n",
    "import numpy as np\n",
    "\n",
    "def f_test(data1, data2, alpha):\n",
    "    # Calculate the sample variances\n",
    "    sample_variance1 = np.var(data1, ddof=1)\n",
    "    sample_variance2 = np.var(data2, ddof=1)\n",
    "\n",
    "    # Calculate the degrees of freedom\n",
    "    dfn = len(data1) - 1\n",
    "    dfd = len(data2) - 1\n",
    "\n",
    "    # Calculate the F-value\n",
    "    f_value = sample_variance1 / sample_variance2\n",
    "\n",
    "    # Calculate the critical F-value\n",
    "    critical_f_value = stats.f.ppf(1 - alpha / 2, dfn, dfd)\n",
    "\n",
    "    # Perform the F-test\n",
    "    if f_value > critical_f_value:\n",
    "        return True, f_value, critical_f_value\n",
    "    else:\n",
    "        return False, f_value, critical_f_value\n",
    "\n",
    "\n",
    "# Given data\n",
    "data_restaurantA = [24, 25, 28, 23, 22, 20, 27]\n",
    "data_restaurantB = [31, 33, 35, 30, 32, 36]\n",
    "alpha = 0.05\n",
    "\n",
    "# Perform F-test\n",
    "is_significantly_different, f_value, critical_f_value = f_test(data_restaurantA, data_restaurantB, alpha)\n",
    "\n",
    "# Print the results\n",
    "print(\"F-value:\", f_value)\n",
    "print(\"Degrees of freedom (numerator, denominator):\", len(data_restaurantA) - 1, len(data_restaurantB) - 1)\n",
    "print(\"Critical F-value:\", critical_f_value)\n",
    "\n",
    "# Check if the null hypothesis is rejected or not\n",
    "if is_significantly_different:\n",
    "    print(\"The variances are significantly different.\")\n",
    "else:\n",
    "    print(\"The variances are not significantly different.\")\n"
   ]
  },
  {
   "cell_type": "markdown",
   "id": "7c92f688-cc6e-4295-b92e-7aa1d6b13f63",
   "metadata": {},
   "source": [
    "Q9. The following data represent the test scores of two groups of students: Group A: 80, 85, 90, 92, 87, 83;\n",
    "Group B: 75, 78, 82, 79, 81, 84. Conduct an F-test at the 1% significance level to determine if the variances\n",
    "are significantly different."
   ]
  },
  {
   "cell_type": "code",
   "execution_count": 13,
   "id": "ccc13675-6b09-441b-a3d4-93e752511ef8",
   "metadata": {},
   "outputs": [
    {
     "name": "stdout",
     "output_type": "stream",
     "text": [
      "F-value: 1.9442622950819677\n",
      "Degrees of freedom (numerator, denominator): 5 5\n",
      "Critical F-value: 14.939605459912224\n",
      "The variances are not significantly different.\n"
     ]
    }
   ],
   "source": [
    "from scipy import stats\n",
    "import numpy as np\n",
    "\n",
    "def f_test(data1, data2, alpha):\n",
    "    # Calculate the sample variances\n",
    "    sample_variance1 = np.var(data1, ddof=1)\n",
    "    sample_variance2 = np.var(data2, ddof=1)\n",
    "\n",
    "    # Calculate the degrees of freedom\n",
    "    dfn = len(data1) - 1\n",
    "    dfd = len(data2) - 1\n",
    "\n",
    "    # Calculate the F-value\n",
    "    f_value = sample_variance1 / sample_variance2\n",
    "\n",
    "    # Calculate the critical F-value\n",
    "    critical_f_value = stats.f.ppf(1 - alpha / 2, dfn, dfd)\n",
    "\n",
    "    # Perform the F-test\n",
    "    if f_value > critical_f_value:\n",
    "        return True, f_value, critical_f_value\n",
    "    else:\n",
    "        return False, f_value, critical_f_value\n",
    "\n",
    "\n",
    "# Given data\n",
    "data_groupA = [80, 85, 90, 92, 87, 83]\n",
    "data_groupB = [75, 78, 82, 79, 81, 84]\n",
    "alpha = 0.01\n",
    "\n",
    "# Perform F-test\n",
    "is_significantly_different, f_value, critical_f_value = f_test(data_groupA, data_groupB, alpha)\n",
    "\n",
    "# Print the results\n",
    "print(\"F-value:\", f_value)\n",
    "print(\"Degrees of freedom (numerator, denominator):\", len(data_groupA) - 1, len(data_groupB) - 1)\n",
    "print(\"Critical F-value:\", critical_f_value)\n",
    "\n",
    "# Check if the null hypothesis is rejected or not\n",
    "if is_significantly_different:\n",
    "    print(\"The variances are significantly different.\")\n",
    "else:\n",
    "    print(\"The variances are not significantly different.\")\n"
   ]
  },
  {
   "cell_type": "code",
   "execution_count": null,
   "id": "a3326e9f-4d24-4d1f-aabc-aa5cd66310f3",
   "metadata": {},
   "outputs": [],
   "source": []
  }
 ],
 "metadata": {
  "kernelspec": {
   "display_name": "Python 3 (ipykernel)",
   "language": "python",
   "name": "python3"
  },
  "language_info": {
   "codemirror_mode": {
    "name": "ipython",
    "version": 3
   },
   "file_extension": ".py",
   "mimetype": "text/x-python",
   "name": "python",
   "nbconvert_exporter": "python",
   "pygments_lexer": "ipython3",
   "version": "3.10.8"
  }
 },
 "nbformat": 4,
 "nbformat_minor": 5
}
